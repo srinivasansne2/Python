{
 "cells": [
  {
   "cell_type": "code",
   "execution_count": 1,
   "id": "cbb92d1d",
   "metadata": {},
   "outputs": [],
   "source": [
    "from bs4 import BeautifulSoup\n",
    "import requests\n",
    "import pandas as pd\n",
    "\n",
    "def scrap(Links, custom_file_name):\n",
    "    \n",
    "    for i in range(len(Links)):\n",
    "        Link = Links[i]\n",
    "        file_name = custom_file_name[i]\n",
    "    \n",
    "        URL=Link\n",
    "\n",
    "        #headerrs for request\n",
    "        HEADERS=({'User-Agent':'Mozilla/5.0 (Windows NT 10.0; Win64; x64) AppleWebKit/537.36 (KHTML, like Gecko) Chrome/58.0.3029.110 Safari/537.36',\n",
    "              'Accept-Language':'en-US,en;q=0.5'})\n",
    "\n",
    "        #http request\n",
    "        webpage=requests.get(URL,headers= HEADERS)\n",
    "\n",
    "        #soup object containing all data\n",
    "        soup=BeautifulSoup(webpage.content,\"html.parser\")\n",
    "    \n",
    "        #feching links as list og tag object\n",
    "        head=soup.find_all(\"h1\", attrs={'entry-title'})\n",
    "\n",
    "        para=soup.find_all(\"div\", attrs={'td-post-content tagdiv-type'})\n",
    "\n",
    "        for i in head:\n",
    "            heads=i.text.strip()\n",
    "    \n",
    "        for p in para:\n",
    "            paras=p.text.strip()\n",
    "    \n",
    "\n",
    "        with open(,file_name + \".txt\", \"w\", encoding='utf-8') as file:\n",
    "            file.write(\"Heading: \" + heads + \"\\n\\n\")\n",
    "            file.write(\"article : \" + str(paras) + \"\\n\\n\")\n"
   ]
  },
  {
   "cell_type": "code",
   "execution_count": 2,
   "id": "fce34db8",
   "metadata": {},
   "outputs": [],
   "source": [
    "df = pd.read_excel(\"Input.xlsx\")\n",
    "\n",
    "Link = df['URL'].tolist()\n",
    "uid = df['URL_ID'].tolist()\n",
    "url_id = [f\"{item:.0f}\" if item.is_integer() else str(item) for item in uid]\n",
    "\n",
    "scrap(Link, url_id)\n"
   ]
  },
  {
   "cell_type": "code",
   "execution_count": null,
   "id": "357b827f",
   "metadata": {},
   "outputs": [],
   "source": []
  }
 ],
 "metadata": {
  "kernelspec": {
   "display_name": "Python 3 (ipykernel)",
   "language": "python",
   "name": "python3"
  },
  "language_info": {
   "codemirror_mode": {
    "name": "ipython",
    "version": 3
   },
   "file_extension": ".py",
   "mimetype": "text/x-python",
   "name": "python",
   "nbconvert_exporter": "python",
   "pygments_lexer": "ipython3",
   "version": "3.9.12"
  }
 },
 "nbformat": 4,
 "nbformat_minor": 5
}
